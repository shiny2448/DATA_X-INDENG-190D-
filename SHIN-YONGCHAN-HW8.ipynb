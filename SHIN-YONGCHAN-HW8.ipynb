{
 "cells": [
  {
   "cell_type": "markdown",
   "metadata": {
    "deletable": true,
    "editable": true
   },
   "source": [
    "![data-x](http://oi64.tinypic.com/o858n4.jpg)\n",
    "\n",
    "\n",
    "# Homework 8: NLP & NLTK - sentiment analysis on movie reviews\n",
    "#### Using Natural Language Processing in Python\n",
    "\n",
    "Source: https://www.kaggle.com/c/word2vec-nlp-tutorial/data\n",
    "\n",
    "*Code snippets given run on both Python 2.7 and Python 3.5*\n"
   ]
  },
  {
   "cell_type": "markdown",
   "metadata": {
    "deletable": true,
    "editable": true
   },
   "source": [
    "## Topics covered:\n",
    "\n",
    "* Data exploration\n",
    "* Text preprocessing\n",
    "* Stemming\n",
    "* Part of Speech (POS) tagging\n",
    "* Lemmatizing\n",
    "* Stopwords (abundant words)\n",
    "* Bag of Words + Feature extraction\n",
    "* Sentiment prediction using Random Forest"
   ]
  },
  {
   "cell_type": "markdown",
   "metadata": {
    "deletable": true,
    "editable": true
   },
   "source": [
    "## Part 0: Pre-Setup"
   ]
  },
  {
   "cell_type": "code",
   "execution_count": 2,
   "metadata": {
    "collapsed": false,
    "deletable": true,
    "editable": true
   },
   "outputs": [],
   "source": [
    "# Remove warnings\n",
    "import warnings\n",
    "warnings.filterwarnings('ignore')\n",
    "\n",
    "import matplotlib.pyplot as plt\n",
    "%matplotlib inline\n",
    "\n",
    "from __future__ import print_function, division, absolute_import #make compatible with Python 2 and Python 3"
   ]
  },
  {
   "cell_type": "markdown",
   "metadata": {
    "deletable": true,
    "editable": true
   },
   "source": [
    "# Data description\n",
    "\n",
    "You can download the data (labeledTrainData.tsv.zip) here: https://www.kaggle.com/c/word2vec-nlp-tutorial/data, place it in your working directory & unzip the file.\n",
    "\n",
    "## Data set\n",
    "\n",
    "The labeled data set consists of 25,000 IMDB movie reviews. The sentiment of reviews is binary, meaning an IMDB rating < 5 results in a sentiment score of 0, and a rating >=7 have a sentiment score of 1 (no reviews with score 5 or 6 are included in the analysis). No individual movie has more than 30 reviews.\n",
    "\n",
    "## File description\n",
    "\n",
    "* **labeledTrainData** - The labeled training set. The file is tab-delimited and has a header row followed by 25,000 rows containing an id, sentiment, and text for each review. \n",
    "\n",
    "## Data columns\n",
    "* **id** - Unique ID of each review\n",
    "* **sentiment** - Sentiment of the review; 1 for positive reviews and 0 for negative reviews\n",
    "* **review** - Text of the review\n"
   ]
  },
  {
   "cell_type": "markdown",
   "metadata": {
    "deletable": true,
    "editable": true
   },
   "source": [
    "# Read in the data"
   ]
  },
  {
   "cell_type": "code",
   "execution_count": 3,
   "metadata": {
    "collapsed": false,
    "deletable": true,
    "editable": true
   },
   "outputs": [],
   "source": [
    "# Read in the data to a Pandas data frame\n",
    "# Use header = 0 (first line contains col names)\n",
    "# use delimiter=\\t (columns are separated by tabs),\n",
    "# use quoting=3 (Python will ignore doubled quotes)\n",
    "\n",
    "import pandas as pd       \n",
    "train = pd.read_csv(\"labeledTrainData.tsv\", header=0, \\\n",
    "                    delimiter=\"\\t\", quoting=3)\n",
    "# train.shape should be (25000,3)"
   ]
  },
  {
   "cell_type": "markdown",
   "metadata": {
    "deletable": true,
    "editable": true
   },
   "source": [
    "## Q1.1:\n",
    "* 1: How many movie reviews are positive and how many are negative in labeledTrainData.tsv?\n",
    "\n",
    "\n",
    "* 2: What is the average length of all the reviews (string length)?"
   ]
  },
  {
   "cell_type": "code",
   "execution_count": 9,
   "metadata": {
    "collapsed": false,
    "deletable": true,
    "editable": true
   },
   "outputs": [
    {
     "name": "stdout",
     "output_type": "stream",
     "text": [
      "Number of positives: 12500\n",
      "Number of negatives: 12500\n",
      "Average length of all the reviews: 233.78824\n"
     ]
    }
   ],
   "source": [
    "## Input answer ##\n",
    "pos_counter = 0\n",
    "for sentiment in train['sentiment']:\n",
    "    if sentiment==0:\n",
    "        pos_counter+=1\n",
    "#1.\n",
    "print(\"Number of positives:\",pos_counter)\n",
    "print(\"Number of negatives:\",len(train['sentiment'])-pos_counter)\n",
    "#2.\n",
    "tot_len=0\n",
    "for review in train['review']:\n",
    "    tot_len+=len(review.split())\n",
    "print(\"Average length of all the reviews:\",float(tot_len)/len(train['review']))"
   ]
  },
  {
   "cell_type": "markdown",
   "metadata": {
    "deletable": true,
    "editable": true
   },
   "source": [
    "## Q1:2 Explore NLP on one review\n",
    "\n",
    "In Q1:2 you should work on the third review, i.e. `train['review'][2]`\n",
    "\n",
    "First we would like to clean up the reviews. As you can see many interviews contain \\ characters in front of quotation symobols, \"`<br/>` tags, numbers, abbrevations etc.\n",
    "\n",
    "* 1: Remove all the HTML tags in the third review, by creating a beatifulsoup object and then using the `.text` method. Save results in variable `review3`\n",
    "\n",
    "\n",
    "* 2: Import NLTK's sent_tokenizer and count the number of sentences in review 3 (cleaned from HTML tags). To import sent_tokenizer use: `from nltk.tokenize import sent_tokenize`\n",
    "\n",
    "\n",
    "* 3: Remove all punctuation, numbers and special characters from the third review (cleaned from HTML tags). We can do this using Regular Expression - package `re`. Save the results in variable `review3`. Code given to you as we haven't covered this in class:\n",
    "\n",
    "        review3 = re.sub('[^a-zA-Z]',' ',review3)\n",
    "\n",
    "\n",
    "* 4: Convert all the letters to lower case (save in variable `review3`). Then split the string so that every word is one element in a list (save the list in variable `review3_words`). Note: When we split the strings into words that process is called tokenization.\n",
    "\n",
    "\n",
    "* 5: Use NLTK's PorterStemmer (`from nltk.stem import PorterStemmer`). Create a new Porter stemmer (`stemmer = PorterStemmer()`) and run it on every word in `review3_words`, print the results as one string (don't overwrite the `review3_words` variable from 4). What does the PorterStemmer do?\n",
    "\n",
    "\n",
    "* 6: Now we want to Part Of Speech (POS)) tag the third movie review. We will use POS labeling also called grammatical tagging. To do this import `from nltk.tag import pos_tag`. When you use pos_tag on a word it returns a token-tag pair in the form of a tuple. In NLTK's Penn Treebank POS, the abbreviation (tag) for an adjective is JJ and NN for singular nouns. Count the number of singular nouns (NN) and adjectives (JJ) in `review3_words` using NLTK's pos_tag_sents. A list of the Penn Treebank pos_tag's can be found here: http://www.ling.upenn.edu/courses/Fall_2003/ling001/penn_treebank_pos.html\n",
    "\n",
    "\n",
    "* 7: An even more sophisticated operation than stemming using the PorterStemmer is called lemmatizing. Lemmatizing, in contrast to stemming, does not create non-existent words and converts words to their synonyms. In order to use lemmatizing we need to define the wordnet POS tag. A function that takes in a POS Penn Treebank tag and converts it to a wordnet tag and then lemmatizes words in a string has been given to you below. Please extend this code and print the lemmatized third movie review. Don't save the results in any variable.\n",
    "\n",
    "\n",
    "* 8: Lastly we will try to remove common words that don't carry much information. These are called stopwords. In English they could for example be 'am', 'are', 'and' etc. To import NLTK's list of stopwords you need to download the stopword corpora (`import nltk` and then `nltk.download()` if you don't have it). When that is done run `from nltk.corpus import stopwords` and create a variable for English stopwords with `eng_stopwords = stopwords.words('english')`. Use the list of English stopwords to remove all the stopwords from your list of words in the third movie review, i.e. `review3_words`. Print `review3_words` without stopwords, count the number of stopwords removed and print them as well."
   ]
  },
  {
   "cell_type": "code",
   "execution_count": 10,
   "metadata": {
    "collapsed": true,
    "deletable": true,
    "editable": true
   },
   "outputs": [],
   "source": [
    "import bs4 as bs\n",
    "import nltk\n",
    "from nltk.tokenize import sent_tokenize\n",
    "import re\n",
    "from nltk.stem import PorterStemmer\n",
    "from nltk.tag import pos_tag\n",
    "from nltk.corpus import stopwords\n",
    "from nltk.corpus import wordnet\n",
    "from nltk.stem import WordNetLemmatizer\n",
    "\n",
    "eng_stopwords = stopwords.words('english')"
   ]
  },
  {
   "cell_type": "code",
   "execution_count": 13,
   "metadata": {
    "collapsed": false,
    "deletable": true,
    "editable": true
   },
   "outputs": [
    {
     "name": "stdout",
     "output_type": "stream",
     "text": [
      "\"The film starts with a manager (Nicholas Bell) giving welcome investors (Robert Carradine) to Primal Park . A secret project mutating a primal animal using fossilized DNA, like ¨Jurassik Park¨, and some scientists resurrect one of nature's most fearsome predators, the Sabretooth tiger or Smilodon . Scientific ambition turns deadly, however, and when the high voltage fence is opened the creature escape and begins savagely stalking its prey - the human visitors , tourists and scientific.Meanwhile some youngsters enter in the restricted area of the security center and are attacked by a pack of large pre-historical animals which are deadlier and bigger . In addition , a security agent (Stacy Haiduk) and her mate (Brian Wimmer) fight hardly against the carnivorous Smilodons. The Sabretooths, themselves , of course, are the real star stars and they are astounding terrifyingly though not convincing. The giant animals savagely are stalking its prey and the group run afoul and fight against one nature's most fearsome predators. Furthermore a third Sabretooth more dangerous and slow stalks its victims.The movie delivers the goods with lots of blood and gore as beheading, hair-raising chills,full of scares when the Sabretooths appear with mediocre special effects.The story provides exciting and stirring entertainment but it results to be quite boring .The giant animals are majority made by computer generator and seem totally lousy .Middling performances though the players reacting appropriately to becoming food.Actors give vigorously physical performances dodging the beasts ,running,bound and leaps or dangling over walls . And it packs a ridiculous final deadly scene. No for small kids by realistic,gory and violent attack scenes . Other films about Sabretooths or Smilodon are the following : ¨Sabretooth(2002)¨by James R Hickox with Vanessa Angel, David Keith and John Rhys Davies and the much better ¨10.000 BC(2006)¨ by Roland Emmerich with with Steven Strait, Cliff Curtis and Camilla Belle. This motion picture filled with bloody moments is badly directed by George Miller and with no originality because takes too many elements from previous films. Miller is an Australian director usually working for television (Tidal wave, Journey to the center of the earth, and many others) and occasionally for cinema ( The man from Snowy river, Zeus and Roxanne,Robinson Crusoe ). Rating : Below average, bottom of barrel.\"\n"
     ]
    }
   ],
   "source": [
    "#1.\n",
    "review3 = train['review'][2] # the review used for analysis in Q1:2\n",
    "review3 = bs.BeautifulSoup(review3).text\n",
    "print(review3)"
   ]
  },
  {
   "cell_type": "code",
   "execution_count": 17,
   "metadata": {
    "collapsed": false,
    "deletable": true,
    "editable": true
   },
   "outputs": [
    {
     "name": "stdout",
     "output_type": "stream",
     "text": [
      "Number of sentences: 13\n"
     ]
    }
   ],
   "source": [
    "#2.\n",
    "print(\"Number of sentences:\",len(sent_tokenize(review3)))"
   ]
  },
  {
   "cell_type": "code",
   "execution_count": 18,
   "metadata": {
    "collapsed": false,
    "deletable": true,
    "editable": true
   },
   "outputs": [
    {
     "name": "stdout",
     "output_type": "stream",
     "text": [
      " The film starts with a manager  Nicholas Bell  giving welcome investors  Robert Carradine  to Primal Park   A secret project mutating a primal animal using fossilized DNA  like  Jurassik Park   and some scientists resurrect one of nature s most fearsome predators  the Sabretooth tiger or Smilodon   Scientific ambition turns deadly  however  and when the high voltage fence is opened the creature escape and begins savagely stalking its prey   the human visitors   tourists and scientific Meanwhile some youngsters enter in the restricted area of the security center and are attacked by a pack of large pre historical animals which are deadlier and bigger   In addition   a security agent  Stacy Haiduk  and her mate  Brian Wimmer  fight hardly against the carnivorous Smilodons  The Sabretooths  themselves   of course  are the real star stars and they are astounding terrifyingly though not convincing  The giant animals savagely are stalking its prey and the group run afoul and fight against one nature s most fearsome predators  Furthermore a third Sabretooth more dangerous and slow stalks its victims The movie delivers the goods with lots of blood and gore as beheading  hair raising chills full of scares when the Sabretooths appear with mediocre special effects The story provides exciting and stirring entertainment but it results to be quite boring  The giant animals are majority made by computer generator and seem totally lousy  Middling performances though the players reacting appropriately to becoming food Actors give vigorously physical performances dodging the beasts  running bound and leaps or dangling over walls   And it packs a ridiculous final deadly scene  No for small kids by realistic gory and violent attack scenes   Other films about Sabretooths or Smilodon are the following    Sabretooth       by James R Hickox with Vanessa Angel  David Keith and John Rhys Davies and the much better         BC        by Roland Emmerich with with Steven Strait  Cliff Curtis and Camilla Belle  This motion picture filled with bloody moments is badly directed by George Miller and with no originality because takes too many elements from previous films  Miller is an Australian director usually working for television  Tidal wave  Journey to the center of the earth  and many others  and occasionally for cinema   The man from Snowy river  Zeus and Roxanne Robinson Crusoe    Rating   Below average  bottom of barrel  \n"
     ]
    }
   ],
   "source": [
    "#3.\n",
    "review3 = re.sub('[^a-zA-Z]',' ',review3)\n",
    "print(review3)"
   ]
  },
  {
   "cell_type": "code",
   "execution_count": 22,
   "metadata": {
    "collapsed": false,
    "deletable": true,
    "editable": true
   },
   "outputs": [
    {
     "name": "stdout",
     "output_type": "stream",
     "text": [
      "['the', 'film', 'starts', 'with', 'a', 'manager', 'nicholas', 'bell', 'giving', 'welcome', 'investors', 'robert', 'carradine', 'to', 'primal', 'park', 'a', 'secret', 'project', 'mutating', 'a', 'primal', 'animal', 'using', 'fossilized', 'dna', 'like', 'jurassik', 'park', 'and', 'some', 'scientists', 'resurrect', 'one', 'of', 'nature', 's', 'most', 'fearsome', 'predators', 'the', 'sabretooth', 'tiger', 'or', 'smilodon', 'scientific', 'ambition', 'turns', 'deadly', 'however', 'and', 'when', 'the', 'high', 'voltage', 'fence', 'is', 'opened', 'the', 'creature', 'escape', 'and', 'begins', 'savagely', 'stalking', 'its', 'prey', 'the', 'human', 'visitors', 'tourists', 'and', 'scientific', 'meanwhile', 'some', 'youngsters', 'enter', 'in', 'the', 'restricted', 'area', 'of', 'the', 'security', 'center', 'and', 'are', 'attacked', 'by', 'a', 'pack', 'of', 'large', 'pre', 'historical', 'animals', 'which', 'are', 'deadlier', 'and', 'bigger', 'in', 'addition', 'a', 'security', 'agent', 'stacy', 'haiduk', 'and', 'her', 'mate', 'brian', 'wimmer', 'fight', 'hardly', 'against', 'the', 'carnivorous', 'smilodons', 'the', 'sabretooths', 'themselves', 'of', 'course', 'are', 'the', 'real', 'star', 'stars', 'and', 'they', 'are', 'astounding', 'terrifyingly', 'though', 'not', 'convincing', 'the', 'giant', 'animals', 'savagely', 'are', 'stalking', 'its', 'prey', 'and', 'the', 'group', 'run', 'afoul', 'and', 'fight', 'against', 'one', 'nature', 's', 'most', 'fearsome', 'predators', 'furthermore', 'a', 'third', 'sabretooth', 'more', 'dangerous', 'and', 'slow', 'stalks', 'its', 'victims', 'the', 'movie', 'delivers', 'the', 'goods', 'with', 'lots', 'of', 'blood', 'and', 'gore', 'as', 'beheading', 'hair', 'raising', 'chills', 'full', 'of', 'scares', 'when', 'the', 'sabretooths', 'appear', 'with', 'mediocre', 'special', 'effects', 'the', 'story', 'provides', 'exciting', 'and', 'stirring', 'entertainment', 'but', 'it', 'results', 'to', 'be', 'quite', 'boring', 'the', 'giant', 'animals', 'are', 'majority', 'made', 'by', 'computer', 'generator', 'and', 'seem', 'totally', 'lousy', 'middling', 'performances', 'though', 'the', 'players', 'reacting', 'appropriately', 'to', 'becoming', 'food', 'actors', 'give', 'vigorously', 'physical', 'performances', 'dodging', 'the', 'beasts', 'running', 'bound', 'and', 'leaps', 'or', 'dangling', 'over', 'walls', 'and', 'it', 'packs', 'a', 'ridiculous', 'final', 'deadly', 'scene', 'no', 'for', 'small', 'kids', 'by', 'realistic', 'gory', 'and', 'violent', 'attack', 'scenes', 'other', 'films', 'about', 'sabretooths', 'or', 'smilodon', 'are', 'the', 'following', 'sabretooth', 'by', 'james', 'r', 'hickox', 'with', 'vanessa', 'angel', 'david', 'keith', 'and', 'john', 'rhys', 'davies', 'and', 'the', 'much', 'better', 'bc', 'by', 'roland', 'emmerich', 'with', 'with', 'steven', 'strait', 'cliff', 'curtis', 'and', 'camilla', 'belle', 'this', 'motion', 'picture', 'filled', 'with', 'bloody', 'moments', 'is', 'badly', 'directed', 'by', 'george', 'miller', 'and', 'with', 'no', 'originality', 'because', 'takes', 'too', 'many', 'elements', 'from', 'previous', 'films', 'miller', 'is', 'an', 'australian', 'director', 'usually', 'working', 'for', 'television', 'tidal', 'wave', 'journey', 'to', 'the', 'center', 'of', 'the', 'earth', 'and', 'many', 'others', 'and', 'occasionally', 'for', 'cinema', 'the', 'man', 'from', 'snowy', 'river', 'zeus', 'and', 'roxanne', 'robinson', 'crusoe', 'rating', 'below', 'average', 'bottom', 'of', 'barrel']\n"
     ]
    }
   ],
   "source": [
    "#4.\n",
    "review3 = review3.lower()\n",
    "review3_words = review3.split()\n",
    "print(review3_words)"
   ]
  },
  {
   "cell_type": "code",
   "execution_count": 25,
   "metadata": {
    "collapsed": false,
    "deletable": true,
    "editable": true
   },
   "outputs": [
    {
     "name": "stdout",
     "output_type": "stream",
     "text": [
      "['the', 'film', 'start', 'with', 'a', 'manag', 'nichola', 'bell', 'give', 'welcom', 'investor', 'robert', 'carradin', 'to', 'primal', 'park', 'a', 'secret', 'project', 'mutat', 'a', 'primal', 'anim', 'use', 'fossil', 'dna', 'like', 'jurassik', 'park', 'and', 'some', 'scientist', 'resurrect', 'one', 'of', 'natur', 's', 'most', 'fearsom', 'predat', 'the', 'sabretooth', 'tiger', 'or', 'smilodon', 'scientif', 'ambit', 'turn', 'deadli', 'howev', 'and', 'when', 'the', 'high', 'voltag', 'fenc', 'is', 'open', 'the', 'creatur', 'escap', 'and', 'begin', 'savag', 'stalk', 'it', 'prey', 'the', 'human', 'visitor', 'tourist', 'and', 'scientif', 'meanwhil', 'some', 'youngster', 'enter', 'in', 'the', 'restrict', 'area', 'of', 'the', 'secur', 'center', 'and', 'are', 'attack', 'by', 'a', 'pack', 'of', 'larg', 'pre', 'histor', 'anim', 'which', 'are', 'deadlier', 'and', 'bigger', 'in', 'addit', 'a', 'secur', 'agent', 'staci', 'haiduk', 'and', 'her', 'mate', 'brian', 'wimmer', 'fight', 'hardli', 'against', 'the', 'carnivor', 'smilodon', 'the', 'sabretooth', 'themselv', 'of', 'cours', 'are', 'the', 'real', 'star', 'star', 'and', 'they', 'are', 'astound', 'terrifyingli', 'though', 'not', 'convinc', 'the', 'giant', 'anim', 'savag', 'are', 'stalk', 'it', 'prey', 'and', 'the', 'group', 'run', 'afoul', 'and', 'fight', 'against', 'one', 'natur', 's', 'most', 'fearsom', 'predat', 'furthermor', 'a', 'third', 'sabretooth', 'more', 'danger', 'and', 'slow', 'stalk', 'it', 'victim', 'the', 'movi', 'deliv', 'the', 'good', 'with', 'lot', 'of', 'blood', 'and', 'gore', 'as', 'behead', 'hair', 'rais', 'chill', 'full', 'of', 'scare', 'when', 'the', 'sabretooth', 'appear', 'with', 'mediocr', 'special', 'effect', 'the', 'stori', 'provid', 'excit', 'and', 'stir', 'entertain', 'but', 'it', 'result', 'to', 'be', 'quit', 'bore', 'the', 'giant', 'anim', 'are', 'major', 'made', 'by', 'comput', 'gener', 'and', 'seem', 'total', 'lousi', 'middl', 'perform', 'though', 'the', 'player', 'react', 'appropri', 'to', 'becom', 'food', 'actor', 'give', 'vigor', 'physic', 'perform', 'dodg', 'the', 'beast', 'run', 'bound', 'and', 'leap', 'or', 'dangl', 'over', 'wall', 'and', 'it', 'pack', 'a', 'ridicul', 'final', 'deadli', 'scene', 'no', 'for', 'small', 'kid', 'by', 'realist', 'gori', 'and', 'violent', 'attack', 'scene', 'other', 'film', 'about', 'sabretooth', 'or', 'smilodon', 'are', 'the', 'follow', 'sabretooth', 'by', 'jame', 'r', 'hickox', 'with', 'vanessa', 'angel', 'david', 'keith', 'and', 'john', 'rhi', 'davi', 'and', 'the', 'much', 'better', 'bc', 'by', 'roland', 'emmerich', 'with', 'with', 'steven', 'strait', 'cliff', 'curti', 'and', 'camilla', 'bell', 'thi', 'motion', 'pictur', 'fill', 'with', 'bloodi', 'moment', 'is', 'badli', 'direct', 'by', 'georg', 'miller', 'and', 'with', 'no', 'origin', 'becaus', 'take', 'too', 'mani', 'element', 'from', 'previou', 'film', 'miller', 'is', 'an', 'australian', 'director', 'usual', 'work', 'for', 'televis', 'tidal', 'wave', 'journey', 'to', 'the', 'center', 'of', 'the', 'earth', 'and', 'mani', 'other', 'and', 'occasion', 'for', 'cinema', 'the', 'man', 'from', 'snowi', 'river', 'zeu', 'and', 'roxann', 'robinson', 'cruso', 'rate', 'below', 'averag', 'bottom', 'of', 'barrel']\n"
     ]
    }
   ],
   "source": [
    "#5.\n",
    "stemmer = PorterStemmer()\n",
    "part_5 = [stemmer.stem(word) for word in review3_words]\n",
    "print(part_5)\n",
    "# Stemmer seems to remove the affixes from words"
   ]
  },
  {
   "cell_type": "code",
   "execution_count": 30,
   "metadata": {
    "collapsed": false,
    "deletable": true,
    "editable": true
   },
   "outputs": [
    {
     "name": "stdout",
     "output_type": "stream",
     "text": [
      "Number of nouns: 142\n",
      "Number of adjectives: 55\n"
     ]
    }
   ],
   "source": [
    "#6.\n",
    "tags = pos_tag(part_5)\n",
    "NNcounter = 0\n",
    "JJcounter = 0\n",
    "for word,tag in tags:\n",
    "    if tag=='NN':\n",
    "        NNcounter+=1\n",
    "    elif tag=='JJ':\n",
    "        JJcounter+=1\n",
    "print(\"Number of nouns:\",NNcounter)\n",
    "print(\"Number of adjectives:\",JJcounter)"
   ]
  },
  {
   "cell_type": "code",
   "execution_count": 34,
   "metadata": {
    "collapsed": false,
    "deletable": true,
    "editable": true
   },
   "outputs": [
    {
     "name": "stdout",
     "output_type": "stream",
     "text": [
      "P. STEMMER: the film start with a manag nichola bell give welcom investor robert carradin to primal park a secret project mutat a primal anim use fossil dna like jurassik park and some scientist resurrect one of natur s most fearsom predat the sabretooth tiger or smilodon scientif ambit turn deadli howev and when the high voltag fenc is open the creatur escap and begin savag stalk it prey the human visitor tourist and scientif meanwhil some youngster enter in the restrict area of the secur center and are attack by a pack of larg pre histor anim which are deadlier and bigger in addit a secur agent staci haiduk and her mate brian wimmer fight hardli against the carnivor smilodon the sabretooth themselv of cours are the real star star and they are astound terrifyingli though not convinc the giant anim savag are stalk it prey and the group run afoul and fight against one natur s most fearsom predat furthermor a third sabretooth more danger and slow stalk it victim the movi deliv the good with lot of blood and gore as behead hair rais chill full of scare when the sabretooth appear with mediocr special effect the stori provid excit and stir entertain but it result to be quit bore the giant anim are major made by comput gener and seem total lousi middl perform though the player react appropri to becom food actor give vigor physic perform dodg the beast run bound and leap or dangl over wall and it pack a ridicul final deadli scene no for small kid by realist gori and violent attack scene other film about sabretooth or smilodon are the follow sabretooth by jame r hickox with vanessa angel david keith and john rhi davi and the much better bc by roland emmerich with with steven strait cliff curti and camilla bell thi motion pictur fill with bloodi moment is badli direct by georg miller and with no origin becaus take too mani element from previou film miller is an australian director usual work for televis tidal wave journey to the center of the earth and mani other and occasion for cinema the man from snowi river zeu and roxann robinson cruso rate below averag bottom of barrel\n",
      "\n",
      "LEMMATIZER: the film start with a manager nicholas bell give welcome investor robert carradine to primal park a secret project mutate a primal animal use fossilized dna like jurassik park and some scientist resurrect one of nature s most fearsome predator the sabretooth tiger or smilodon scientific ambition turn deadly however and when the high voltage fence be open the creature escape and begin savagely stalk it prey the human visitor tourist and scientific meanwhile some youngster enter in the restricted area of the security center and be attack by a pack of large pre historical animal which be deadlier and big in addition a security agent stacy haiduk and her mate brian wimmer fight hardly against the carnivorous smilodons the sabretooths themselves of course be the real star star and they be astound terrifyingly though not convince the giant animal savagely be stalk it prey and the group run afoul and fight against one nature s most fearsome predator furthermore a third sabretooth more dangerous and slow stalk it victim the movie deliver the good with lot of blood and gore a behead hair raise chill full of scare when the sabretooths appear with mediocre special effect the story provide exciting and stirring entertainment but it result to be quite bore the giant animal be majority make by computer generator and seem totally lousy middle performance though the player react appropriately to become food actor give vigorously physical performance dodge the beast run bound and leap or dangle over wall and it pack a ridiculous final deadly scene no for small kid by realistic gory and violent attack scenes other film about sabretooths or smilodon be the follow sabretooth by james r hickox with vanessa angel david keith and john rhys davy and the much good bc by roland emmerich with with steven strait cliff curtis and camilla belle this motion picture fill with bloody moment be badly direct by george miller and with no originality because take too many element from previous film miller be an australian director usually work for television tidal wave journey to the center of the earth and many others and occasionally for cinema the man from snowy river zeus and roxanne robinson crusoe rating below average bottom of barrel\n"
     ]
    }
   ],
   "source": [
    "## 7. Example code for lemmatizing, extend it to work on the third movie review ##\n",
    "\n",
    "#example_sentence = 'gone fishing earlier than supposed to. his shirts were damaged'\n",
    "example_sentence = review3\n",
    "\n",
    "# compare to porter stemmer (base case)\n",
    "ps = PorterStemmer()\n",
    "print('P. STEMMER:',' '.join([ps.stem(w) for w in example_sentence.split()]))\n",
    "\n",
    "# Lemmatizing\n",
    "wnl = WordNetLemmatizer()\n",
    "\n",
    "def get_wordnet_pos(treebank_tag):\n",
    "    '''Treebank to wordnet POS tag'''\n",
    "    if treebank_tag.startswith('J'):\n",
    "        return wordnet.ADJ\n",
    "    elif treebank_tag.startswith('V'):\n",
    "        return wordnet.VERB\n",
    "    elif treebank_tag.startswith('N'):\n",
    "        return wordnet.NOUN\n",
    "    elif treebank_tag.startswith('R'):\n",
    "        return wordnet.ADV\n",
    "    else:\n",
    "        return 'n' #basecase POS\n",
    "    \n",
    "token_tag = pos_tag(example_sentence.split())\n",
    "\n",
    "print('\\nLEMMATIZER:',' '.join([wnl.lemmatize(w,pos=get_wordnet_pos(t)) for w,t in token_tag]))\n",
    "\n"
   ]
  },
  {
   "cell_type": "code",
   "execution_count": 35,
   "metadata": {
    "collapsed": false,
    "deletable": true,
    "editable": true
   },
   "outputs": [
    {
     "name": "stdout",
     "output_type": "stream",
     "text": [
      "Number of stop words: 107\n",
      "review3_words without the stop words\n",
      "['film', 'starts', 'manager', 'nicholas', 'bell', 'giving', 'welcome', 'investors', 'robert', 'carradine', 'primal', 'park', 'secret', 'project', 'mutating', 'primal', 'animal', 'using', 'fossilized', 'dna', 'like', 'jurassik', 'park', 'scientists', 'resurrect', 'one', 'nature', 'most', 'fearsome', 'predators', 'sabretooth', 'tiger', 'smilodon', 'scientific', 'ambition', 'turns', 'deadly', 'however', 'high', 'voltage', 'fence', 'opened', 'creature', 'escape', 'begins', 'savagely', 'stalking', 'prey', 'human', 'visitors', 'tourists', 'scientific', 'meanwhile', 'some', 'youngsters', 'enter', 'restricted', 'area', 'security', 'center', 'attacked', 'pack', 'large', 'pre', 'historical', 'animals', 'deadlier', 'bigger', 'addition', 'security', 'agent', 'stacy', 'haiduk', 'her', 'mate', 'brian', 'wimmer', 'fight', 'hardly', 'carnivorous', 'smilodons', 'sabretooths', 'course', 'real', 'star', 'stars', 'they', 'astounding', 'terrifyingly', 'though', 'convincing', 'giant', 'animals', 'savagely', 'stalking', 'prey', 'group', 'run', 'afoul', 'fight', 'one', 'nature', 'most', 'fearsome', 'predators', 'furthermore', 'a', 'third', 'sabretooth', 'dangerous', 'slow', 'stalks', 'victims', 'movie', 'delivers', 'goods', 'lots', 'blood', 'gore', 'beheading', 'hair', 'raising', 'chills', 'full', 'scares', 'when', 'the', 'sabretooths', 'appear', 'mediocre', 'special', 'effects', 'the', 'story', 'provides', 'exciting', 'stirring', 'entertainment', 'it', 'results', 'be', 'quite', 'boring', 'the', 'giant', 'animals', 'are', 'majority', 'made', 'computer', 'generator', 'seem', 'totally', 'lousy', 'middling', 'performances', 'though', 'the', 'players', 'reacting', 'appropriately', 'becoming', 'food', 'actors', 'give', 'vigorously', 'physical', 'performances', 'dodging', 'the', 'beasts', 'running', 'bound', 'leaps', 'dangling', 'walls', 'it', 'packs', 'a', 'ridiculous', 'final', 'deadly', 'scene', 'small', 'kids', 'realistic', 'gory', 'violent', 'attack', 'scenes', 'films', 'sabretooths', 'smilodon', 'are', 'the', 'following', 'sabretooth', 'james', 'r', 'hickox', 'vanessa', 'angel', 'david', 'keith', 'john', 'rhys', 'davies', 'the', 'much', 'better', 'bc', 'roland', 'emmerich', 'steven', 'strait', 'cliff', 'curtis', 'camilla', 'belle', 'motion', 'picture', 'filled', 'with', 'bloody', 'moments', 'badly', 'directed', 'george', 'miller', 'with', 'originality', 'takes', 'many', 'elements', 'previous', 'films', 'miller', 'an', 'australian', 'director', 'usually', 'working', 'television', 'tidal', 'wave', 'journey', 'the', 'center', 'the', 'earth', 'many', 'others', 'occasionally', 'for', 'cinema', 'the', 'man', 'snowy', 'river', 'zeus', 'roxanne', 'robinson', 'crusoe', 'rating', 'average', 'bottom', 'of', 'barrel']\n"
     ]
    }
   ],
   "source": [
    "#8.\n",
    "stop_counter = 0\n",
    "for word in review3_words:\n",
    "    if word in eng_stopwords:\n",
    "        stop_counter+=1\n",
    "        review3_words.remove(word)\n",
    "print(\"Number of stop words:\",stop_counter)\n",
    "print(\"review3_words without the stop words\")\n",
    "print(review3_words)"
   ]
  },
  {
   "cell_type": "markdown",
   "metadata": {
    "deletable": true,
    "editable": true
   },
   "source": [
    "# Q1:3\n",
    "\n",
    "* 1: Create a function called `review_cleaner` that reads in a review and\n",
    "    - Removes HTML tags (using beautifulsoup)\n",
    "    - Removes non-letters (using regular expression)\n",
    "    - Converts all words to lowercase letters and tokenizes them (using .split() method on the review strings, so that every word in the review is an element in a list)\n",
    "    - Removes all the English stopwords from the list of movie review words\n",
    "    - Joins the words back into one string seperated by space\n",
    "\n",
    "**NOTE: Transform the list of stopwords to a set before removing the stopwords. I.e. assign `eng_stopwords = set(stopwords.words(\"english\"))`. Use the set to look up stopwords. This will speed up the computations A LOT (Python is much quicker when searching a set than a list).**\n",
    "    \n",
    "    \n",
    "* 2: Create three lists: \n",
    "    - `review_clean_original`, `review_clean_ps` and `review_clean_wnl`. Where `review_clean_original` contains all the reviews from the train DataFrame, that have been cleaned by the function `review_cleaner` defined in 1.\n",
    "    - `review_clean_ps` applies the PorterStemmer to the reviews in `review_clean_original`. **Note:** NLTK version 3.2.2 crashes when trying to use the PorterStemming on the string 'oed' (known bug). Therefore, use an if statement to skip just that specific string/word.\n",
    "    - `review_clean_wnl` contains words that have been lemmatized using NLTK's WordNetLemmatizer on the words in the list `review_clean_original`.\n",
    "    \n",
    "**Note, problem 2: can take more than 10minutes to run on a laptop**"
   ]
  },
  {
   "cell_type": "code",
   "execution_count": 39,
   "metadata": {
    "collapsed": false,
    "deletable": true,
    "editable": true
   },
   "outputs": [],
   "source": [
    "## Part 1\n",
    "\n",
    "def review_cleaner(review):\n",
    "    ## EXTEND THIS FUNCTION SO THAT IT COMPLETES THE FOLLOWING STEPS: ##\n",
    "    '''\n",
    "    Clean and preprocess a review.\n",
    "    \n",
    "    1. Remove HTML tags\n",
    "    2. Use regex to remove all special characters (only keep letters)\n",
    "    3. Make strings to lower case and tokenize / word split reviews\n",
    "    4. Remove English stopwords\n",
    "    5. Rejoin to one string\n",
    "    '''\n",
    "    \n",
    "    #1.\n",
    "    review = bs.BeautifulSoup(review).text\n",
    "    #2.\n",
    "    review = re.sub('[^a-zA-Z]',' ',review)\n",
    "    #3.\n",
    "    review = review.lower()\n",
    "    review = review.split()\n",
    "    #4. CHECK FOR STOPWORDS IN: eng_stopwords\n",
    "    eng_stopwords = set(stopwords.words(\"english\"))\n",
    "    review = [w for w in review if not w in eng_stopwords]\n",
    "    #5. \n",
    "    review = \" \".join(review)\n",
    "    #6.\n",
    "    return(review)\n",
    "    \n"
   ]
  },
  {
   "cell_type": "code",
   "execution_count": 43,
   "metadata": {
    "collapsed": false,
    "deletable": true,
    "editable": true
   },
   "outputs": [
    {
     "name": "stdout",
     "output_type": "stream",
     "text": [
      "Done with 500 reviews for review_clean_original\n",
      "Done with 1000 reviews for review_clean_original\n",
      "Done with 1500 reviews for review_clean_original\n",
      "Done with 2000 reviews for review_clean_original\n",
      "Done with 2500 reviews for review_clean_original\n",
      "Done with 3000 reviews for review_clean_original\n",
      "Done with 3500 reviews for review_clean_original\n",
      "Done with 4000 reviews for review_clean_original\n",
      "Done with 4500 reviews for review_clean_original\n",
      "Done with 5000 reviews for review_clean_original\n",
      "Done with 5500 reviews for review_clean_original\n",
      "Done with 6000 reviews for review_clean_original\n",
      "Done with 6500 reviews for review_clean_original\n",
      "Done with 7000 reviews for review_clean_original\n",
      "Done with 7500 reviews for review_clean_original\n",
      "Done with 8000 reviews for review_clean_original\n",
      "Done with 8500 reviews for review_clean_original\n",
      "Done with 9000 reviews for review_clean_original\n",
      "Done with 9500 reviews for review_clean_original\n",
      "Done with 10000 reviews for review_clean_original\n",
      "Done with 10500 reviews for review_clean_original\n",
      "Done with 11000 reviews for review_clean_original\n",
      "Done with 11500 reviews for review_clean_original\n",
      "Done with 12000 reviews for review_clean_original\n",
      "Done with 12500 reviews for review_clean_original\n",
      "Done with 13000 reviews for review_clean_original\n",
      "Done with 13500 reviews for review_clean_original\n",
      "Done with 14000 reviews for review_clean_original\n",
      "Done with 14500 reviews for review_clean_original\n",
      "Done with 15000 reviews for review_clean_original\n",
      "Done with 15500 reviews for review_clean_original\n",
      "Done with 16000 reviews for review_clean_original\n",
      "Done with 16500 reviews for review_clean_original\n",
      "Done with 17000 reviews for review_clean_original\n",
      "Done with 17500 reviews for review_clean_original\n",
      "Done with 18000 reviews for review_clean_original\n",
      "Done with 18500 reviews for review_clean_original\n",
      "Done with 19000 reviews for review_clean_original\n",
      "Done with 19500 reviews for review_clean_original\n",
      "Done with 20000 reviews for review_clean_original\n",
      "Done with 20500 reviews for review_clean_original\n",
      "Done with 21000 reviews for review_clean_original\n",
      "Done with 21500 reviews for review_clean_original\n",
      "Done with 22000 reviews for review_clean_original\n",
      "Done with 22500 reviews for review_clean_original\n",
      "Done with 23000 reviews for review_clean_original\n",
      "Done with 23500 reviews for review_clean_original\n",
      "Done with 24000 reviews for review_clean_original\n",
      "Done with 24500 reviews for review_clean_original\n",
      "Done with 25000 reviews for review_clean_original\n",
      "review_clean_ps is created, and length is: 25000\n",
      "review_clean_wnl is created, and length is: 25000\n"
     ]
    }
   ],
   "source": [
    "## Part 2\n",
    "\n",
    "## Step 1: Clean up all the original reviews\n",
    "num_reviews = len(train['review'])\n",
    "\n",
    "review_clean_original = []\n",
    "\n",
    "for i in range(0,num_reviews):\n",
    "    if( (i+1)%500 == 0 ):\n",
    "        # print progress\n",
    "        print(\"Done with %d reviews for review_clean_original\" %(i+1)) \n",
    "    review_clean_original.append(review_cleaner(train['review'][i]))\n",
    "### Step2: Use review_clean_original to create review_clean_ps using PorterStemmer\n",
    "review_clean_ps = []\n",
    "for review in review_clean_original:\n",
    "    review_clean_ps.append(\" \".join([stemmer.stem(word) for word in review.split() if word!='oed']))\n",
    "print(\"review_clean_ps is created, and length is:\",len(review_clean_ps))\n",
    "### Step3: Use review_clean original to create review_clean_wnl using the WordNetLemmatizer\n",
    "review_clean_wnl = []\n",
    "for review in review_clean_original:\n",
    "    review_clean_wnl.append(\" \".join([wnl.lemmatize(w,pos=get_wordnet_pos(t)) for w,t in pos_tag(review.split())]))\n",
    "print(\"review_clean_wnl is created, and length is:\",len(review_clean_wnl))"
   ]
  },
  {
   "cell_type": "markdown",
   "metadata": {
    "deletable": true,
    "editable": true
   },
   "source": [
    "# Q1:4: Feature vectors and Bag of Words model\n",
    "\n",
    "### Explanation\n",
    "\n",
    "Derived from source: https://www.kaggle.com/c/word2vec-nlp-tutorial/details/part-1-for-beginners-bag-of-words\n",
    "\n",
    "We will now use scikit-learn to create numeric representations of the words in the reviews, using a method called Bag of Words. You can see this as learning a vocabulary from all the reviews and counting how many times a word appears in the reviews. For example, if we have two sentences:\n",
    "\n",
    "**Sentence 1:** \"cool students study cool data science\"\n",
    "\n",
    "**Sentence 2:** \"to know data science study data science\"\n",
    "\n",
    "The vocabulary of these two sentences can be summarized in a dictionary:\n",
    "\n",
    "{ cool, students, study, data, science, to, know }\n",
    "\n",
    "The bags of words count the number of times each word occur in a sentence. In Sentence 1, \"cool\" appears twice, and \"students\", \"study\", \"data\", and \"science\" appear once. The feature vector for Sentence 1 is:\n",
    "\n",
    "Sentence 1: { 2, 1, 1, 1, 1, 0, 0 }\n",
    "\n",
    "And for Sentence 2: { 0, 0, 1, 2, 2, 1, 1}\n",
    "\n",
    "### Applying this strategy to the IMDB movie reviews\n",
    "\n",
    "The movie review data contains a lot of words. To limit the analysis we use the 5000 most frequent words from the cleaned reviews. To extract the bag of words features we will use scitkit-learn.\n",
    "\n",
    "The training data will be created by the `CountVectorizer` function from scikit-learn, and the training array will have 25000 rows (one for each review) and 5000 features (one for each vocabulary word).\n",
    "\n",
    "CountVectorizer can automatically handle text cleaning, but here we specify \"None\", instead we did a step-by-step cleaning of the data in the earlier problems.\n",
    "\n",
    "#### Random Forest for review sentiment classification\n",
    "\n",
    "First split up the data set so that 80% are used as training samples (the first 20000 reviews and their sentiment) and 20% are used as validation samples (the last 5000 reviews and their sentiment). Use Random Forest to do numeric training on the features for the training samples from the Bag of Words and their respective sentiment labels for each review / feature vector. The number of trees is set to 50 as a default value.\n",
    "\n",
    "## Problem\n",
    "\n",
    "* 1: Run this analysis for the three cleaned review lists, i.e. `review_clean_original`, `review_clean_ps` and `review_clean_wnl`, by using the code below. Extend the function to print the **validation accuracy** by using `forest.predict(train_data_features[20000:,:])` and then comparing the resulting sentiment predictions with the ones stored in `train[\"sentiment\"][20000:]`. **Note:** The printed validation accuracy should show the percentage of correctly predicted sentiments for the validation set.\n",
    "\n",
    "\n",
    "* 2: Print the validation accuracy obtained for the three models. **Note:** Takes about 4mins to run.\n",
    "\n",
    "\n",
    "* 3: What data preprocessing strategy worked the best? Why do you think that is? (Feel free to change the number of features extracted in the bag of words model and the number of trees in the random forest model, to see how it effects your accuracy)."
   ]
  },
  {
   "cell_type": "code",
   "execution_count": 44,
   "metadata": {
    "collapsed": false,
    "deletable": true,
    "editable": true
   },
   "outputs": [
    {
     "name": "stdout",
     "output_type": "stream",
     "text": [
      "In review_clean_original\n",
      "Creating the bag of words model!\n",
      "\n",
      "Training the random forest classifier!\n",
      "\n",
      "validation score: 0.8364\n",
      "In review_clean_ps\n",
      "Creating the bag of words model!\n",
      "\n",
      "Training the random forest classifier!\n",
      "\n",
      "validation score: 0.8284\n",
      "In review_clean_wnl\n",
      "Creating the bag of words model!\n",
      "\n",
      "Training the random forest classifier!\n",
      "\n",
      "validation score: 0.8292\n"
     ]
    }
   ],
   "source": [
    "#%%time # times the operation\n",
    "\n",
    "from sklearn.feature_extraction.text import CountVectorizer\n",
    "from sklearn.ensemble import RandomForestClassifier\n",
    "import numpy as np\n",
    "\n",
    "def predict_sentiment(X,y=train[\"sentiment\"]):\n",
    "    \n",
    "    \n",
    "    print(\"Creating the bag of words model!\\n\")\n",
    "    # CountVectorizer\" is scikit-learn's bag of words tool.\n",
    "    vectorizer = CountVectorizer(analyzer = \"word\",   \\\n",
    "                                 tokenizer = None,    \\\n",
    "                                 preprocessor = None, \\\n",
    "                                 stop_words = None,   \\\n",
    "                                 max_features = 5000) \n",
    "\n",
    "    # Then we use fit_transform() to fit the model / learn the vocabulary,\n",
    "    # then transform the data into feature vectors.\n",
    "    # The input should be a list of strings. .toarraty() converts to a numpy array\n",
    "    train_data_features = vectorizer.fit_transform(X).toarray()\n",
    "\n",
    "    # You can extract the vocabulary created by CountVectorizer\n",
    "    # by running print(vectorizer.get_feature_names())\n",
    "\n",
    "    \n",
    "    print(\"Training the random forest classifier!\\n\")\n",
    "    # Initialize a Random Forest classifier with 50 trees\n",
    "    forest = RandomForestClassifier(n_estimators = 50) \n",
    "\n",
    "    # Fit the forest to the training set, using the bag of words as \n",
    "    # features and the sentiment labels as the target variable\n",
    "    forest = forest.fit(train_data_features[0:20000,:], y[0:20000] )\n",
    "    \n",
    "    \n",
    "    '''## MAKE PREDICTIONS HERE ##'''\n",
    "    pred = forest.predict(train_data_features[20000:,:])\n",
    "    labels = y[20000:]\n",
    "    error_count = 0\n",
    "    for tup in zip(pred,labels):\n",
    "        if tup[0]!=tup[1]:\n",
    "            error_count+=1\n",
    "    v_score = float(len(labels)-error_count)/float(len(labels))\n",
    "    print(\"validation score:\",v_score)\n",
    "    \n",
    "'''Then run'''\n",
    "print(\"In review_clean_original\")\n",
    "predict_sentiment(review_clean_original)\n",
    "print(\"In review_clean_ps\")\n",
    "predict_sentiment(review_clean_ps)\n",
    "print(\"In review_clean_wnl\")\n",
    "predict_sentiment(review_clean_wnl)"
   ]
  },
  {
   "cell_type": "markdown",
   "metadata": {
    "deletable": true,
    "editable": true
   },
   "source": [
    "# Extra Credit (worth 1p)\n",
    "\n",
    "* **Question:** Preprocess the reviews in any way you find suitable and build your own ML model that can predict the sentiment of movie reviews. Credit will be given if you can obtain a prediction accuracy of over 90%, when predicting the sentiments of the validation set (the last 5000 reviews). Train your model on the first 20000 reviews (with their sentiment as the target variable)."
   ]
  },
  {
   "cell_type": "code",
   "execution_count": null,
   "metadata": {
    "collapsed": true,
    "deletable": true,
    "editable": true
   },
   "outputs": [],
   "source": [
    "## Input Answer ##"
   ]
  }
 ],
 "metadata": {
  "kernelspec": {
   "display_name": "Python [default]",
   "language": "python",
   "name": "python3"
  },
  "language_info": {
   "codemirror_mode": {
    "name": "ipython",
    "version": 3
   },
   "file_extension": ".py",
   "mimetype": "text/x-python",
   "name": "python",
   "nbconvert_exporter": "python",
   "pygments_lexer": "ipython3",
   "version": "3.5.2"
  }
 },
 "nbformat": 4,
 "nbformat_minor": 2
}
