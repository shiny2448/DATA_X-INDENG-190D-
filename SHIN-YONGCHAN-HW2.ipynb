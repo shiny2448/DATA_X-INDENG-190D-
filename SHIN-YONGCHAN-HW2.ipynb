{
 "cells": [
  {
   "cell_type": "markdown",
   "metadata": {},
   "source": [
    "## DATA-X (INDENG 190D): HW 2\n",
    "### Yong-Chan Shin\n",
    "#### SID: 25421882\n",
    "\n",
    "---\n"
   ]
  },
  {
   "cell_type": "markdown",
   "metadata": {},
   "source": [
    "# Problem 1"
   ]
  },
  {
   "cell_type": "code",
   "execution_count": 2,
   "metadata": {
    "collapsed": false
   },
   "outputs": [
    {
     "name": "stdout",
     "output_type": "stream",
     "text": [
      "a_square: [100 121 144 169 196 225 256 289 324 361]\n",
      "b_square: [  1.           2.77777778   5.44444444   9.          13.44444444\n",
      "  18.77777778  25.          32.11111111  40.11111111  49.        ]\n",
      "add both the squared arrays: [ 101.          123.77777778  149.44444444  178.          209.44444444\n",
      "  243.77777778  281.          321.11111111  364.11111111  410.        ]\n",
      "sum of the even elements of the added array: 1105.0\n",
      "square root of the added array: [ 10.04987562  11.12554618  12.22474721  13.34166406  14.47219556\n",
      "  15.61338457  16.76305461  17.91957341  19.08169571  20.24845673]\n"
     ]
    }
   ],
   "source": [
    "# Q1\n",
    "import numpy as np\n",
    "a = np.arange(10,20)\n",
    "b = np.linspace(1,7,10)\n",
    "a_square = np.square(a)\n",
    "b_square = np.square(b)\n",
    "print \"a_square:\",a_square\n",
    "print \"b_square:\",b_square\n",
    "added_squared_array = a_square+b_square\n",
    "print \"add both the squared arrays:\",added_squared_array\n",
    "total = 0\n",
    "for index in range(added_squared_array.shape[0]):\n",
    "    if index%2==0:\n",
    "        total+=added_squared_array[index]\n",
    "print \"sum of the even elements of the added array:\",total\n",
    "square_root_added_squared_array = np.sqrt(added_squared_array)\n",
    "print \"square root of the added array:\",square_root_added_squared_array"
   ]
  },
  {
   "cell_type": "code",
   "execution_count": 3,
   "metadata": {
    "collapsed": false
   },
   "outputs": [
    {
     "name": "stdout",
     "output_type": "stream",
     "text": [
      "[[ 10.          11.          12.          13.        ]\n",
      " [ 14.          15.          16.          17.        ]\n",
      " [ 18.          19.           1.           1.66666667]\n",
      " [  2.33333333   3.           3.66666667   4.33333333]\n",
      " [  5.           5.66666667   6.33333333   7.        ]]\n"
     ]
    }
   ],
   "source": [
    "#Q2\n",
    "m = np.append(a,b).reshape(5,4)\n",
    "print m"
   ]
  },
  {
   "cell_type": "code",
   "execution_count": 4,
   "metadata": {
    "collapsed": false
   },
   "outputs": [
    {
     "name": "stdout",
     "output_type": "stream",
     "text": [
      "[[ 12.          16.        ]\n",
      " [  1.           3.66666667]\n",
      " [  6.33333333  13.        ]\n",
      " [ 17.           1.66666667]\n",
      " [  4.33333333   7.        ]]\n"
     ]
    }
   ],
   "source": [
    "#Q3\n",
    "m2 = np.append(m[:,2],m[:,3]).reshape(5,2)\n",
    "print m2"
   ]
  },
  {
   "cell_type": "code",
   "execution_count": 5,
   "metadata": {
    "collapsed": false
   },
   "outputs": [
    {
     "name": "stdout",
     "output_type": "stream",
     "text": [
      "[[ 309.33333333  342.88888889  256.11111111  287.55555556]\n",
      " [ 484.22222222  522.66666667  314.11111111  348.22222222]]\n"
     ]
    }
   ],
   "source": [
    "#Q4\n",
    "m3 = np.dot(m2.T,m)\n",
    "print m3"
   ]
  },
  {
   "cell_type": "code",
   "execution_count": 6,
   "metadata": {
    "collapsed": false
   },
   "outputs": [
    {
     "name": "stdout",
     "output_type": "stream",
     "text": [
      "[[ 309.33  342.89  256.11  287.56]\n",
      " [ 484.22  522.67  314.11  348.22]]\n"
     ]
    }
   ],
   "source": [
    "#Q5\n",
    "m3 = np.around(m3,decimals=2)\n",
    "print m3"
   ]
  },
  {
   "cell_type": "code",
   "execution_count": 7,
   "metadata": {
    "collapsed": false
   },
   "outputs": [
    {
     "name": "stdout",
     "output_type": "stream",
     "text": [
      "[[ 522.67  484.22  348.22  342.89]\n",
      " [ 314.11  309.33  287.56  256.11]]\n"
     ]
    }
   ],
   "source": [
    "#Q6\n",
    "m3_original_shape = m3.shape\n",
    "m3 = m3.reshape(1,m3.shape[0]*m3.shape[1])\n",
    "m3 = np.sort(m3)\n",
    "m3 = np.fliplr(m3)\n",
    "m3 = m3.reshape(m3_original_shape[0],m3_original_shape[1])\n",
    "print m3"
   ]
  },
  {
   "cell_type": "code",
   "execution_count": null,
   "metadata": {
    "collapsed": true
   },
   "outputs": [],
   "source": []
  }
 ],
 "metadata": {
  "anaconda-cloud": {},
  "kernelspec": {
   "display_name": "Python [conda root]",
   "language": "python",
   "name": "conda-root-py"
  },
  "language_info": {
   "codemirror_mode": {
    "name": "ipython",
    "version": 2
   },
   "file_extension": ".py",
   "mimetype": "text/x-python",
   "name": "python",
   "nbconvert_exporter": "python",
   "pygments_lexer": "ipython2",
   "version": "2.7.12"
  }
 },
 "nbformat": 4,
 "nbformat_minor": 1
}
