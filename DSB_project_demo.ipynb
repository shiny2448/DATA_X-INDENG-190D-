{
 "cells": [
  {
   "cell_type": "code",
   "execution_count": 48,
   "metadata": {
    "collapsed": false
   },
   "outputs": [
    {
     "name": "stdout",
     "output_type": "stream",
     "text": [
      "point1\n",
      "point2\n",
      "zerocounter: 1035\n",
      "onecounter: 362\n"
     ]
    }
   ],
   "source": [
    "import dicom\n",
    "import os.path\n",
    "from glob import glob\n",
    "import numpy as np\n",
    "import matplotlib.pyplot as plt\n",
    "import pandas as pd\n",
    "import csv\n",
    "import math\n",
    "from random import shuffle\n",
    "#MAIN_FOLDER = \"sample_images\"\n",
    "MAIN_FOLDER = \"stage1/stage1\"\n",
    "SCALE_CONST = 16\n",
    "hyper_param = 0.001\n",
    "\n",
    "def compute_score(labels,pred):\n",
    "\terror_count = 0\n",
    "\tfor tup in zip(pred,labels):\n",
    "\t\tif tup[0]!=tup[1]:\n",
    "\t\t\terror_count+=1\n",
    "\treturn float(labels.shape[0]-error_count)/float(labels.shape[0])\n",
    "\n",
    "def LDA_predict(cov,x_list,pi_list,mean_list):\n",
    "    inv_cov = np.linalg.pinv(cov+hyper_param*np.identity(cov.shape[0]))\n",
    "    log_det = sum([math.log(eig+hyper_param) for eig in np.linalg.eigvals(cov)])\n",
    "    pred = []\n",
    "    for x in x_list:\n",
    "        estimated_g = []\n",
    "        for i in range(len(mean_list)):\n",
    "            estimated_g.append(-0.5*np.dot(np.dot((x-mean_list[i]).T,inv_cov),(x-mean_list[i]))+math.log(pi_list[i])-0.5*log_det)\n",
    "            #estimated_g.append(np.dot(np.dot(x.T,inv_cov),mean_list[i])-0.5*np.dot(np.dot(mean_list[i].T,inv_cov),mean_list[i])+math.log(pi_list[i]))\n",
    "        pred.append(np.argmax(estimated_g))\n",
    "    return pred\n",
    "\n",
    "def QDA_predict(cov_list,x_list,pi_list,mean_list):\n",
    "    pred = []\n",
    "    inv_cov_list = [np.linalg.pinv(cov_list[i]+hyper_param*np.identity(cov_list[i].shape[0])) for i in range(len(mean_list))]\n",
    "    eigvals = np.linalg.eigvals(cov_list[i])\n",
    "    log_det_list = [sum([math.log(eig+hyper_param) for eig in eigvals]) for i in range(len(mean_list))]\n",
    "    \n",
    "    for x in x_list:\n",
    "        estimated_g = []\n",
    "        for i in range(len(mean_list)):\n",
    "            inv_cov = inv_cov_list[i]\n",
    "            estimated_g.append(-0.5*np.dot(np.dot((x-mean_list[i]).T,inv_cov),(x-mean_list[i]))+math.log(pi_list[i])-0.5*(log_det_list[i]))\n",
    "        pred.append(np.argmax(estimated_g))\n",
    "    return pred\n",
    "#print patient_id_list\n",
    "#df_labels = pd.read_csv(\"stage1_labels.csv\")\n",
    "#df_labels = df_labels.drop('index')\n",
    "#print df_labels[(df_labels['id']=='0015ceb851d7251b8f399e39779d1e7d')].loc[:,'cancer']\n",
    "patient_id_list = [name for name in os.listdir(MAIN_FOLDER)]\n",
    "shuffle(patient_id_list)\n",
    "label_list = {}\n",
    "with open(\"stage1_labels.csv\") as csvfile:\n",
    "    reader = csv.reader(csvfile, delimiter=',')\n",
    "    for row in reader:\n",
    "        if row[1]=='0' or row[1]=='1':\n",
    "            label_list[row[0]]=int(row[1])\n",
    "print \"point1\"\n",
    "test_set = []\n",
    "with open(\"stage1_sample_submission.csv\") as csvfile:\n",
    "    reader = csv.reader(csvfile,delimiter=',')\n",
    "    for row in reader:\n",
    "        if row[0]!='id':\n",
    "            test_set.append(row[0])\n",
    "print \"point2\"\n",
    "one_counter = 0\n",
    "one_patient_list = []\n",
    "zero_counter = 0\n",
    "zero_patient_list = []\n",
    "for key,value in label_list.items():\n",
    "    if value==0:\n",
    "        zero_counter+=1\n",
    "        zero_patient_list.append(key)\n",
    "    elif value==1:\n",
    "        one_counter+=1\n",
    "        one_patient_list.append(key)\n",
    "    else:\n",
    "        print \"WTF\"\n",
    "print \"zerocounter:\",zero_counter\n",
    "print \"onecounter:\",one_counter\n",
    "num_samples = 100\n",
    "sample_patient_id_list = one_patient_list[:num_samples//2]+zero_patient_list[:num_samples//2]"
   ]
  },
  {
   "cell_type": "code",
   "execution_count": 49,
   "metadata": {
    "collapsed": false
   },
   "outputs": [
    {
     "ename": "KeyboardInterrupt",
     "evalue": "",
     "output_type": "error",
     "traceback": [
      "\u001b[0;31m\u001b[0m",
      "\u001b[0;31mKeyboardInterrupt\u001b[0mTraceback (most recent call last)",
      "\u001b[0;32m<ipython-input-49-647e6cea9b0d>\u001b[0m in \u001b[0;36m<module>\u001b[0;34m()\u001b[0m\n\u001b[1;32m     11\u001b[0m         \u001b[0mimage\u001b[0m \u001b[1;33m=\u001b[0m \u001b[0mdicom\u001b[0m\u001b[1;33m.\u001b[0m\u001b[0mread_file\u001b[0m\u001b[1;33m(\u001b[0m\u001b[0mMAIN_FOLDER\u001b[0m\u001b[1;33m+\u001b[0m\u001b[1;34m\"/\"\u001b[0m\u001b[1;33m+\u001b[0m\u001b[0mpatient_id\u001b[0m\u001b[1;33m+\u001b[0m\u001b[1;34m\"/\"\u001b[0m\u001b[1;33m+\u001b[0m\u001b[0mfiles\u001b[0m\u001b[1;33m[\u001b[0m\u001b[0mnum_files\u001b[0m\u001b[1;33m//\u001b[0m\u001b[1;36m2\u001b[0m\u001b[1;33m]\u001b[0m\u001b[1;33m)\u001b[0m\u001b[1;33m\u001b[0m\u001b[0m\n\u001b[1;32m     12\u001b[0m         \u001b[1;31m#image = dicom.read_file(MAIN_FOLDER+\"/\"+patient_id_list[i]+\"/\"+files[num_files//2])\u001b[0m\u001b[1;33m\u001b[0m\u001b[1;33m\u001b[0m\u001b[0m\n\u001b[0;32m---> 13\u001b[0;31m         \u001b[0mimage_features\u001b[0m \u001b[1;33m=\u001b[0m \u001b[1;33m[\u001b[0m\u001b[0mnp\u001b[0m\u001b[1;33m.\u001b[0m\u001b[0mmean\u001b[0m\u001b[1;33m(\u001b[0m\u001b[1;33m[\u001b[0m\u001b[0mimage\u001b[0m\u001b[1;33m.\u001b[0m\u001b[0mpixel_array\u001b[0m\u001b[1;33m[\u001b[0m\u001b[0mSCALE_CONST\u001b[0m\u001b[1;33m*\u001b[0m\u001b[0mi\u001b[0m\u001b[1;33m+\u001b[0m\u001b[0mi2\u001b[0m\u001b[1;33m]\u001b[0m\u001b[1;33m[\u001b[0m\u001b[0mSCALE_CONST\u001b[0m\u001b[1;33m*\u001b[0m\u001b[0mj\u001b[0m\u001b[1;33m+\u001b[0m\u001b[0mj2\u001b[0m\u001b[1;33m]\u001b[0m \u001b[1;32mfor\u001b[0m \u001b[0mj2\u001b[0m \u001b[1;32min\u001b[0m \u001b[0mrange\u001b[0m\u001b[1;33m(\u001b[0m\u001b[0mSCALE_CONST\u001b[0m\u001b[1;33m)\u001b[0m \u001b[1;32mfor\u001b[0m \u001b[0mi2\u001b[0m \u001b[1;32min\u001b[0m \u001b[0mrange\u001b[0m\u001b[1;33m(\u001b[0m\u001b[0mSCALE_CONST\u001b[0m\u001b[1;33m)\u001b[0m\u001b[1;33m]\u001b[0m\u001b[1;33m)\u001b[0m \u001b[1;32mfor\u001b[0m \u001b[0mj\u001b[0m \u001b[1;32min\u001b[0m \u001b[0mrange\u001b[0m\u001b[1;33m(\u001b[0m\u001b[0mimage\u001b[0m\u001b[1;33m.\u001b[0m\u001b[0mColumns\u001b[0m\u001b[1;33m/\u001b[0m\u001b[0mSCALE_CONST\u001b[0m\u001b[1;33m)\u001b[0m \u001b[1;32mfor\u001b[0m \u001b[0mi\u001b[0m \u001b[1;32min\u001b[0m \u001b[0mrange\u001b[0m\u001b[1;33m(\u001b[0m\u001b[0mimage\u001b[0m\u001b[1;33m.\u001b[0m\u001b[0mRows\u001b[0m\u001b[1;33m/\u001b[0m\u001b[0mSCALE_CONST\u001b[0m\u001b[1;33m)\u001b[0m\u001b[1;33m]\u001b[0m\u001b[1;33m\u001b[0m\u001b[0m\n\u001b[0m\u001b[1;32m     14\u001b[0m         \u001b[0mimage_features\u001b[0m\u001b[1;33m.\u001b[0m\u001b[0mappend\u001b[0m\u001b[1;33m(\u001b[0m\u001b[0mlabel_list\u001b[0m\u001b[1;33m[\u001b[0m\u001b[0mpatient_id\u001b[0m\u001b[1;33m]\u001b[0m\u001b[1;33m)\u001b[0m \u001b[1;31m#last column is of labels\u001b[0m\u001b[1;33m\u001b[0m\u001b[0m\n\u001b[1;32m     15\u001b[0m         \u001b[1;31m#print \"current patient label\",label_list[patient_id]\u001b[0m\u001b[1;33m\u001b[0m\u001b[1;33m\u001b[0m\u001b[0m\n",
      "\u001b[0;32mC:\\Users\\Yong-Chan\\Anaconda2_62bit\\lib\\site-packages\\pydicom-0.9.9-py2.7.egg\\dicom\\dataset.pyc\u001b[0m in \u001b[0;36mpixel_array\u001b[0;34m(self)\u001b[0m\n\u001b[1;32m    415\u001b[0m         \u001b[1;34m\"\"\"Return the pixel data as a NumPy array\"\"\"\u001b[0m\u001b[1;33m\u001b[0m\u001b[0m\n\u001b[1;32m    416\u001b[0m         \u001b[1;32mtry\u001b[0m\u001b[1;33m:\u001b[0m\u001b[1;33m\u001b[0m\u001b[0m\n\u001b[0;32m--> 417\u001b[0;31m             \u001b[1;32mreturn\u001b[0m \u001b[0mself\u001b[0m\u001b[1;33m.\u001b[0m\u001b[0m_get_pixel_array\u001b[0m\u001b[1;33m(\u001b[0m\u001b[1;33m)\u001b[0m\u001b[1;33m\u001b[0m\u001b[0m\n\u001b[0m\u001b[1;32m    418\u001b[0m         \u001b[1;32mexcept\u001b[0m \u001b[0mAttributeError\u001b[0m\u001b[1;33m:\u001b[0m\u001b[1;33m\u001b[0m\u001b[0m\n\u001b[1;32m    419\u001b[0m             \u001b[0mt\u001b[0m\u001b[1;33m,\u001b[0m \u001b[0me\u001b[0m\u001b[1;33m,\u001b[0m \u001b[0mtb\u001b[0m \u001b[1;33m=\u001b[0m \u001b[0msys\u001b[0m\u001b[1;33m.\u001b[0m\u001b[0mexc_info\u001b[0m\u001b[1;33m(\u001b[0m\u001b[1;33m)\u001b[0m\u001b[1;33m\u001b[0m\u001b[0m\n",
      "\u001b[0;32mC:\\Users\\Yong-Chan\\Anaconda2_62bit\\lib\\site-packages\\pydicom-0.9.9-py2.7.egg\\dicom\\dataset.pyc\u001b[0m in \u001b[0;36m_get_pixel_array\u001b[0;34m(self)\u001b[0m\n\u001b[1;32m    396\u001b[0m         \u001b[1;31m# Check if pixel data is in a form we know how to make into an array\u001b[0m\u001b[1;33m\u001b[0m\u001b[1;33m\u001b[0m\u001b[0m\n\u001b[1;32m    397\u001b[0m         \u001b[1;31m# XXX uses file_meta here, should really only be thus for FileDataset\u001b[0m\u001b[1;33m\u001b[0m\u001b[1;33m\u001b[0m\u001b[0m\n\u001b[0;32m--> 398\u001b[0;31m         \u001b[1;32mif\u001b[0m \u001b[0mself\u001b[0m\u001b[1;33m.\u001b[0m\u001b[0mfile_meta\u001b[0m\u001b[1;33m.\u001b[0m\u001b[0mTransferSyntaxUID\u001b[0m \u001b[1;32mnot\u001b[0m \u001b[1;32min\u001b[0m \u001b[0mNotCompressedPixelTransferSyntaxes\u001b[0m\u001b[1;33m:\u001b[0m\u001b[1;33m\u001b[0m\u001b[0m\n\u001b[0m\u001b[1;32m    399\u001b[0m             \u001b[1;32mraise\u001b[0m \u001b[0mNotImplementedError\u001b[0m\u001b[1;33m(\u001b[0m\u001b[1;34m\"Pixel Data is compressed in a format pydicom does not yet handle. Cannot return array\"\u001b[0m\u001b[1;33m)\u001b[0m\u001b[1;33m\u001b[0m\u001b[0m\n\u001b[1;32m    400\u001b[0m \u001b[1;33m\u001b[0m\u001b[0m\n",
      "\u001b[0;32mC:\\Users\\Yong-Chan\\Anaconda2_62bit\\lib\\site-packages\\pydicom-0.9.9-py2.7.egg\\dicom\\dataset.pyc\u001b[0m in \u001b[0;36m__getattr__\u001b[0;34m(self, name)\u001b[0m\n\u001b[1;32m    252\u001b[0m                                  \"'{0:s}'.\".format(name))\n\u001b[1;32m    253\u001b[0m         \u001b[0mtag\u001b[0m \u001b[1;33m=\u001b[0m \u001b[0mTag\u001b[0m\u001b[1;33m(\u001b[0m\u001b[0mtag\u001b[0m\u001b[1;33m)\u001b[0m\u001b[1;33m\u001b[0m\u001b[0m\n\u001b[0;32m--> 254\u001b[0;31m         \u001b[1;32mif\u001b[0m \u001b[0mtag\u001b[0m \u001b[1;32mnot\u001b[0m \u001b[1;32min\u001b[0m \u001b[0mself\u001b[0m\u001b[1;33m:\u001b[0m\u001b[1;33m\u001b[0m\u001b[0m\n\u001b[0m\u001b[1;32m    255\u001b[0m             raise AttributeError(\"Dataset does not have attribute \"\n\u001b[1;32m    256\u001b[0m                                  \"'{0:s}'.\".format(name))\n",
      "\u001b[0;32mC:\\Users\\Yong-Chan\\Anaconda2_62bit\\lib\\site-packages\\pydicom-0.9.9-py2.7.egg\\dicom\\dataset.pyc\u001b[0m in \u001b[0;36m__contains__\u001b[0;34m(self, name)\u001b[0m\n\u001b[1;32m    119\u001b[0m                 \u001b[1;32mreturn\u001b[0m \u001b[0mFalse\u001b[0m\u001b[1;33m\u001b[0m\u001b[0m\n\u001b[1;32m    120\u001b[0m         \u001b[1;32mif\u001b[0m \u001b[0mtag\u001b[0m\u001b[1;33m:\u001b[0m\u001b[1;33m\u001b[0m\u001b[0m\n\u001b[0;32m--> 121\u001b[0;31m             \u001b[1;32mreturn\u001b[0m \u001b[0mdict\u001b[0m\u001b[1;33m.\u001b[0m\u001b[0m__contains__\u001b[0m\u001b[1;33m(\u001b[0m\u001b[0mself\u001b[0m\u001b[1;33m,\u001b[0m \u001b[0mtag\u001b[0m\u001b[1;33m)\u001b[0m\u001b[1;33m\u001b[0m\u001b[0m\n\u001b[0m\u001b[1;32m    122\u001b[0m         \u001b[1;32melse\u001b[0m\u001b[1;33m:\u001b[0m\u001b[1;33m\u001b[0m\u001b[0m\n\u001b[1;32m    123\u001b[0m             \u001b[1;32mreturn\u001b[0m \u001b[0mdict\u001b[0m\u001b[1;33m.\u001b[0m\u001b[0m__contains__\u001b[0m\u001b[1;33m(\u001b[0m\u001b[0mself\u001b[0m\u001b[1;33m,\u001b[0m \u001b[0mname\u001b[0m\u001b[1;33m)\u001b[0m  \u001b[1;31m# will no doubt raise an exception\u001b[0m\u001b[1;33m\u001b[0m\u001b[0m\n",
      "\u001b[0;32mC:\\Users\\Yong-Chan\\Anaconda2_62bit\\lib\\site-packages\\pydicom-0.9.9-py2.7.egg\\dicom\\tag.pyc\u001b[0m in \u001b[0;36m__eq__\u001b[0;34m(self, other)\u001b[0m\n\u001b[1;32m     58\u001b[0m     \u001b[1;32mdef\u001b[0m \u001b[0m__eq__\u001b[0m\u001b[1;33m(\u001b[0m\u001b[0mself\u001b[0m\u001b[1;33m,\u001b[0m \u001b[0mother\u001b[0m\u001b[1;33m)\u001b[0m\u001b[1;33m:\u001b[0m\u001b[1;33m\u001b[0m\u001b[0m\n\u001b[1;32m     59\u001b[0m         \u001b[1;31m# Check if comparing with another Tag object; if not, create a temp one\u001b[0m\u001b[1;33m\u001b[0m\u001b[1;33m\u001b[0m\u001b[0m\n\u001b[0;32m---> 60\u001b[0;31m         \u001b[1;32mif\u001b[0m \u001b[1;32mnot\u001b[0m \u001b[0misinstance\u001b[0m\u001b[1;33m(\u001b[0m\u001b[0mother\u001b[0m\u001b[1;33m,\u001b[0m \u001b[0mBaseTag\u001b[0m\u001b[1;33m)\u001b[0m\u001b[1;33m:\u001b[0m\u001b[1;33m\u001b[0m\u001b[0m\n\u001b[0m\u001b[1;32m     61\u001b[0m             \u001b[1;32mtry\u001b[0m\u001b[1;33m:\u001b[0m\u001b[1;33m\u001b[0m\u001b[0m\n\u001b[1;32m     62\u001b[0m                 \u001b[0mother\u001b[0m \u001b[1;33m=\u001b[0m \u001b[0mTag\u001b[0m\u001b[1;33m(\u001b[0m\u001b[0mother\u001b[0m\u001b[1;33m)\u001b[0m\u001b[1;33m\u001b[0m\u001b[0m\n",
      "\u001b[0;31mKeyboardInterrupt\u001b[0m: "
     ]
    }
   ],
   "source": [
    "mid_images = []\n",
    "counter=0\n",
    "for patient_id in sample_patient_id_list:\n",
    "#for patient_id in patient_id_list:\n",
    "#for i in range(100):\n",
    "    if patient_id not in test_set:\n",
    "    #if patient_id_list[i] not in test_set:\n",
    "        files = [f for f in os.listdir(MAIN_FOLDER+\"/\"+patient_id) if os.path.isfile(os.path.join(MAIN_FOLDER+\"/\"+patient_id, f))]\n",
    "        #files = [f for f in os.listdir(MAIN_FOLDER+\"/\"+patient_id_list[i]) if os.path.isfile(os.path.join(MAIN_FOLDER+\"/\"+patient_id_list[i], f))]\n",
    "        num_files = len(files)\n",
    "        image = dicom.read_file(MAIN_FOLDER+\"/\"+patient_id+\"/\"+files[num_files//2])\n",
    "        #image = dicom.read_file(MAIN_FOLDER+\"/\"+patient_id_list[i]+\"/\"+files[num_files//2])\n",
    "        image_features = [np.mean([image.pixel_array[SCALE_CONST*i+i2][SCALE_CONST*j+j2] for j2 in range(SCALE_CONST) for i2 in range(SCALE_CONST)]) for j in range(image.Columns/SCALE_CONST) for i in range(image.Rows/SCALE_CONST)]\n",
    "        image_features.append(label_list[patient_id]) #last column is of labels\n",
    "        print \"current patient label\",label_list[patient_id]\n",
    "        #print \"current patient label\",label_list[patient_id_list[i]]\n",
    "        #image_features.append(label_list[patient_id_list[i]])\n",
    "        mid_images.append(image_features)\n",
    "        counter+=1\n",
    "        print \"num patients done:\",counter\n",
    "print \"point3\""
   ]
  },
  {
   "cell_type": "code",
   "execution_count": 50,
   "metadata": {
    "collapsed": false
   },
   "outputs": [
    {
     "name": "stdout",
     "output_type": "stream",
     "text": [
      "image label: 1\n",
      "image label: 1\n",
      "image label: 1\n",
      "image label: 1\n",
      "point4\n"
     ]
    },
    {
     "ename": "IndexError",
     "evalue": "tuple index out of range",
     "output_type": "error",
     "traceback": [
      "\u001b[0;31m\u001b[0m",
      "\u001b[0;31mIndexError\u001b[0mTraceback (most recent call last)",
      "\u001b[0;32m<ipython-input-50-972842a06bdb>\u001b[0m in \u001b[0;36m<module>\u001b[0;34m()\u001b[0m\n\u001b[1;32m     21\u001b[0m \u001b[1;31m#nums_samples = [100,200,500,1000,len(mid_images)]\u001b[0m\u001b[1;33m\u001b[0m\u001b[1;33m\u001b[0m\u001b[0m\n\u001b[1;32m     22\u001b[0m \u001b[1;32mfor\u001b[0m \u001b[0mnum_samples\u001b[0m \u001b[1;32min\u001b[0m \u001b[0mnums_samples\u001b[0m\u001b[1;33m:\u001b[0m\u001b[1;33m\u001b[0m\u001b[0m\n\u001b[0;32m---> 23\u001b[0;31m     \u001b[0mv_set\u001b[0m \u001b[1;33m=\u001b[0m \u001b[0mvalidation_set\u001b[0m\u001b[1;33m[\u001b[0m\u001b[1;33m:\u001b[0m\u001b[1;33m,\u001b[0m\u001b[1;33m:\u001b[0m\u001b[0mvalidation_set\u001b[0m\u001b[1;33m.\u001b[0m\u001b[0mshape\u001b[0m\u001b[1;33m[\u001b[0m\u001b[1;36m1\u001b[0m\u001b[1;33m]\u001b[0m\u001b[1;33m-\u001b[0m\u001b[1;36m1\u001b[0m\u001b[1;33m]\u001b[0m\u001b[1;33m\u001b[0m\u001b[0m\n\u001b[0m\u001b[1;32m     24\u001b[0m     \u001b[0mv_label\u001b[0m \u001b[1;33m=\u001b[0m \u001b[0mvalidation_set\u001b[0m\u001b[1;33m[\u001b[0m\u001b[1;33m:\u001b[0m\u001b[1;33m,\u001b[0m\u001b[0mvalidation_set\u001b[0m\u001b[1;33m.\u001b[0m\u001b[0mshape\u001b[0m\u001b[1;33m[\u001b[0m\u001b[1;36m1\u001b[0m\u001b[1;33m]\u001b[0m\u001b[1;33m-\u001b[0m\u001b[1;36m1\u001b[0m\u001b[1;33m]\u001b[0m\u001b[1;33m\u001b[0m\u001b[0m\n\u001b[1;32m     25\u001b[0m     \u001b[0mt_set\u001b[0m \u001b[1;33m=\u001b[0m \u001b[0mtraining_set\u001b[0m\u001b[1;33m[\u001b[0m\u001b[1;33m:\u001b[0m\u001b[0mnum_samples\u001b[0m\u001b[1;33m,\u001b[0m\u001b[1;33m:\u001b[0m\u001b[0mtraining_set\u001b[0m\u001b[1;33m.\u001b[0m\u001b[0mshape\u001b[0m\u001b[1;33m[\u001b[0m\u001b[1;36m1\u001b[0m\u001b[1;33m]\u001b[0m\u001b[1;33m-\u001b[0m\u001b[1;36m1\u001b[0m\u001b[1;33m]\u001b[0m\u001b[1;33m\u001b[0m\u001b[0m\n",
      "\u001b[0;31mIndexError\u001b[0m: tuple index out of range"
     ]
    }
   ],
   "source": [
    "shuffle(mid_images)\n",
    "for image in mid_images:\n",
    "    print \"image label:\",image[len(image)-1]\n",
    "validation_set = np.array(mid_images[:len(mid_images)//5])\n",
    "training_set = np.array(mid_images[len(mid_images)//5:])\n",
    "#print \"validationsetshape\",validation_set.shape\n",
    "#print \"trainingsetshape\",training_set.shape\n",
    "LDA_errors = []\n",
    "QDA_errors = []\n",
    "classes = []\n",
    "#print \"traininglabels\",training_set[:,training_set.shape[1]-1]\n",
    "#print \"validationlabels\",validation_set[:,validation_set.shape[1]-1]\n",
    "# for label in training_set[:,training_set.shape[1]-1]:\n",
    "#     print label\n",
    "#     if label not in classes:\n",
    "#         classes.append(label)\n",
    "print \"point4\"\n",
    "nums_samples = [counter]\n",
    "num_classes = 2\n",
    "#nums_samples = [len(mid_images)]\n",
    "#nums_samples = [100,200,500,1000,len(mid_images)]\n",
    "for num_samples in nums_samples:\n",
    "    v_set = validation_set[:,:validation_set.shape[1]-1]\n",
    "    v_label = validation_set[:,validation_set.shape[1]-1]\n",
    "    t_set = training_set[:num_samples,:training_set.shape[1]-1]\n",
    "    t_label = training_set[:num_samples,training_set.shape[1]-1]\n",
    "    #print \"t_label\", t_label\n",
    "    #print \"vlabel:\",v_label\n",
    "    classes = [[] for _ in range(num_classes)]\n",
    "    classes_means = []\n",
    "    classes_covs = []\n",
    "    for i in range(len(t_label)):\n",
    "        classes[int(t_label[i])].append(t_set[i])\n",
    "    print \"point5\"\n",
    "    for class_label in classes:\n",
    "        class_label = np.array(class_label)\n",
    "        classes_means.append(np.mean(class_label,axis=0))\n",
    "        classes_covs.append(np.cov(class_label.T))\n",
    "    print \"point6\"\n",
    "    mean_cov = np.array([[0 for _ in range(t_set.shape[1])] for _ in range(t_set.shape[1])])\n",
    "    for cov in classes_covs:\n",
    "        mean_cov = mean_cov+cov\n",
    "    mean_cov = mean_cov/float(num_classes)\n",
    "    pi_list = [float(len(class_label))/float(t_set.shape[0]) for class_label in classes]\n",
    "    LDA_pred = LDA_predict(mean_cov,v_set,pi_list,classes_means)\n",
    "    print \"point7\"\n",
    "    QDA_pred = QDA_predict(classes_covs,v_set,pi_list,classes_means)\n",
    "    print \"point8\"\n",
    "    LDA_score = compute_score(v_label,LDA_pred)\n",
    "    QDA_score = compute_score(v_label,QDA_pred)\n",
    "    LDA_errors.append(1.0-LDA_score)\n",
    "    QDA_errors.append(1.0-QDA_score)\n",
    "    print \"point9\"\n",
    "plt.plot(nums_samples,LDA_errors,'r-',label='LDA error')\n",
    "plt.plot(nums_samples,QDA_errors,'b-',label='QDA error')\n",
    "plt.title('Num Samples vs. Error Rate')\n",
    "plt.xlabel('Number of Samples')\n",
    "plt.ylabel('Error Rate')\n",
    "plt.show()\n",
    "print \"LDA errors:\",LDA_errors\n",
    "print \"QDA_errors:\",QDA_errors"
   ]
  },
  {
   "cell_type": "code",
   "execution_count": null,
   "metadata": {
    "collapsed": true
   },
   "outputs": [],
   "source": []
  }
 ],
 "metadata": {
  "anaconda-cloud": {},
  "kernelspec": {
   "display_name": "Python [conda root]",
   "language": "python",
   "name": "conda-root-py"
  },
  "language_info": {
   "codemirror_mode": {
    "name": "ipython",
    "version": 2
   },
   "file_extension": ".py",
   "mimetype": "text/x-python",
   "name": "python",
   "nbconvert_exporter": "python",
   "pygments_lexer": "ipython2",
   "version": "2.7.12"
  }
 },
 "nbformat": 4,
 "nbformat_minor": 1
}
